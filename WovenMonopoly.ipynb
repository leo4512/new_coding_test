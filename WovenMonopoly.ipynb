{
 "cells": [
  {
   "cell_type": "code",
   "execution_count": 88,
   "metadata": {},
   "outputs": [
    {
     "name": "stdout",
     "output_type": "stream",
     "text": [
      "[['Peter', 20], ['Billy', 13], ['Charlotte', 20], ['Sweedal', -1]]\n"
     ]
    }
   ],
   "source": [
    "import json\n",
    "from pprint import pprint\n",
    "\n",
    "def readFile(file):\n",
    "    # Opening JSON file\n",
    "    f = open(file)\n",
    "    data = json.load(f)\n",
    "    # Returns JSON object as a dictionary\n",
    "    return data\n",
    "    # Closing file\n",
    "    f.close()\n",
    "\n",
    "#Store JSON data\n",
    "board = readFile('board.json')\n",
    "rolls_1 = readFile('rolls_1.json')\n",
    "rolls_2 = readFile('rolls_2.json')\n",
    "\n",
    "#Initialize players\n",
    "StartValue = 16\n",
    "#Player data\n",
    "players = [\n",
    "  [ \"Peter\", StartValue],\n",
    "  [ \"Billy\", StartValue],\n",
    "  [ \"Charlotte\", StartValue],\n",
    "  [ \"Sweedal\", StartValue],\n",
    "]\n",
    "\n",
    "#Traver through board with specified dice number \n",
    "# and update player stats by turns\n",
    "def game(dice_roll):\n",
    "  counter = 0\n",
    "  for x in dice_roll:\n",
    "    current_position = board[x]\n",
    "    \n",
    "    if current_position['type'] == 'go':\n",
    "      players[counter % 4][1] += 1\n",
    "      \n",
    "    if current_position['type'] != 'go' and current_position['type'] == 'property':\n",
    "      current_position.update({'owner': players[counter % 4][0]})\n",
    "      current_position.update({'type': 'property_sold'})\n",
    "      players[counter % 4][1] -= current_position['price']\n",
    "      \n",
    "    if current_position['type'] == 'property_sold':\n",
    "      players[counter % 4][1] -= current_position['price']\n",
    "      \n",
    "      for x in players:\n",
    "        if x[0] == current_position['owner']:\n",
    "          x[1] += current_position['price']\n",
    "      \n",
    "    if players[counter % 4][1] <= 0:\n",
    "      break\n",
    "      \n",
    "    counter += 1\n",
    "\n",
    "game(rolls_1)\n",
    "\n",
    "pprint(players)\n",
    "\n"
   ]
  },
  {
   "cell_type": "code",
   "execution_count": null,
   "metadata": {},
   "outputs": [],
   "source": []
  },
  {
   "cell_type": "code",
   "execution_count": null,
   "metadata": {},
   "outputs": [],
   "source": []
  },
  {
   "cell_type": "code",
   "execution_count": null,
   "metadata": {},
   "outputs": [],
   "source": []
  }
 ],
 "metadata": {
  "kernelspec": {
   "display_name": "Python 3.9.9 64-bit",
   "language": "python",
   "name": "python3"
  },
  "language_info": {
   "codemirror_mode": {
    "name": "ipython",
    "version": 3
   },
   "file_extension": ".py",
   "mimetype": "text/x-python",
   "name": "python",
   "nbconvert_exporter": "python",
   "pygments_lexer": "ipython3",
   "version": "3.9.9"
  },
  "vscode": {
   "interpreter": {
    "hash": "aee8b7b246df8f9039afb4144a1f6fd8d2ca17a180786b69acc140d282b71a49"
   }
  }
 },
 "nbformat": 4,
 "nbformat_minor": 4
}
