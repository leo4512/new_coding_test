{
 "cells": [
  {
   "cell_type": "code",
   "execution_count": 8,
   "metadata": {},
   "outputs": [
    {
     "name": "stdout",
     "output_type": "stream",
     "text": [
      "[{'name': 'GO', 'type': 'go'}, {'name': 'The Burvale', 'price': 1, 'colour': 'Brown', 'type': 'property'}, {'name': 'Fast Kebabs', 'price': 1, 'colour': 'Brown', 'type': 'property'}, {'name': 'The Grand Tofu', 'price': 2, 'colour': 'Red', 'type': 'property'}, {'name': 'Lanzhou Beef Noodle', 'price': 2, 'colour': 'Red', 'type': 'property'}, {'name': \"Betty's Burgers\", 'price': 3, 'colour': 'Green', 'type': 'property'}, {'name': 'YOMG', 'price': 3, 'colour': 'Green', 'type': 'property'}, {'name': 'Gami Chicken', 'price': 4, 'colour': 'Blue', 'type': 'property'}, {'name': 'Massizim', 'price': 4, 'colour': 'Blue', 'type': 'property'}]\n"
     ]
    }
   ],
   "source": [
    "import json\n",
    "  \n",
    "# Opening JSON file\n",
    "f = open('board.json')\n",
    "  \n",
    "# returns JSON object as \n",
    "# a dictionary\n",
    "data = json.load(f)\n",
    "  \n",
    "# Iterating through the json\n",
    "# list\n",
    "print(data)\n",
    "  \n",
    "# Closing file\n",
    "f.close()"
   ]
  },
  {
   "cell_type": "code",
   "execution_count": null,
   "metadata": {},
   "outputs": [],
   "source": []
  },
  {
   "cell_type": "code",
   "execution_count": null,
   "metadata": {},
   "outputs": [],
   "source": []
  },
  {
   "cell_type": "code",
   "execution_count": null,
   "metadata": {},
   "outputs": [],
   "source": []
  }
 ],
 "metadata": {
  "kernelspec": {
   "display_name": "Python 3",
   "language": "python",
   "name": "python3"
  },
  "language_info": {
   "codemirror_mode": {
    "name": "ipython",
    "version": 3
   },
   "file_extension": ".py",
   "mimetype": "text/x-python",
   "name": "python",
   "nbconvert_exporter": "python",
   "pygments_lexer": "ipython3",
   "version": "3.8.3"
  }
 },
 "nbformat": 4,
 "nbformat_minor": 4
}
