{
 "cells": [
  {
   "cell_type": "code",
   "execution_count": 38,
   "metadata": {},
   "outputs": [
    {
     "name": "stdout",
     "output_type": "stream",
     "text": [
      "{'name': 'The Burvale', 'price': 1, 'colour': 'Brown', 'type': 'property'}\n",
      "{'name': 'The Grand Tofu', 'price': 2, 'colour': 'Red', 'type': 'property'}\n",
      "{'name': 'The Burvale', 'price': 1, 'colour': 'Brown', 'type': 'property'}\n",
      "{'name': 'The Burvale', 'price': 1, 'colour': 'Brown', 'type': 'property'}\n",
      "{'name': 'The Burvale', 'price': 1, 'colour': 'Brown', 'type': 'property'}\n",
      "{'name': 'Fast Kebabs', 'price': 1, 'colour': 'Brown', 'type': 'property'}\n",
      "{'name': 'Lanzhou Beef Noodle', 'price': 2, 'colour': 'Red', 'type': 'property'}\n",
      "{'name': 'Fast Kebabs', 'price': 1, 'colour': 'Brown', 'type': 'property'}\n",
      "{'name': 'YOMG', 'price': 3, 'colour': 'Green', 'type': 'property'}\n",
      "{'name': 'The Grand Tofu', 'price': 2, 'colour': 'Red', 'type': 'property'}\n",
      "{'name': \"Betty's Burgers\", 'price': 3, 'colour': 'Green', 'type': 'property'}\n",
      "{'name': 'Fast Kebabs', 'price': 1, 'colour': 'Brown', 'type': 'property'}\n",
      "{'name': 'Fast Kebabs', 'price': 1, 'colour': 'Brown', 'type': 'property'}\n",
      "{'name': 'Fast Kebabs', 'price': 1, 'colour': 'Brown', 'type': 'property'}\n",
      "{'name': 'Lanzhou Beef Noodle', 'price': 2, 'colour': 'Red', 'type': 'property'}\n",
      "{'name': 'Lanzhou Beef Noodle', 'price': 2, 'colour': 'Red', 'type': 'property'}\n",
      "{'name': 'YOMG', 'price': 3, 'colour': 'Green', 'type': 'property'}\n",
      "{'name': 'The Burvale', 'price': 1, 'colour': 'Brown', 'type': 'property'}\n",
      "{'name': 'Lanzhou Beef Noodle', 'price': 2, 'colour': 'Red', 'type': 'property'}\n",
      "{'name': 'Fast Kebabs', 'price': 1, 'colour': 'Brown', 'type': 'property'}\n",
      "{'name': 'YOMG', 'price': 3, 'colour': 'Green', 'type': 'property'}\n",
      "{'name': 'Fast Kebabs', 'price': 1, 'colour': 'Brown', 'type': 'property'}\n",
      "{'name': 'The Burvale', 'price': 1, 'colour': 'Brown', 'type': 'property'}\n",
      "{'name': \"Betty's Burgers\", 'price': 3, 'colour': 'Green', 'type': 'property'}\n",
      "{'name': 'Lanzhou Beef Noodle', 'price': 2, 'colour': 'Red', 'type': 'property'}\n",
      "{'name': \"Betty's Burgers\", 'price': 3, 'colour': 'Green', 'type': 'property'}\n",
      "{'name': 'YOMG', 'price': 3, 'colour': 'Green', 'type': 'property'}\n",
      "{'name': \"Betty's Burgers\", 'price': 3, 'colour': 'Green', 'type': 'property'}\n",
      "{'name': 'YOMG', 'price': 3, 'colour': 'Green', 'type': 'property'}\n",
      "{'name': 'The Grand Tofu', 'price': 2, 'colour': 'Red', 'type': 'property'}\n",
      "{'name': 'YOMG', 'price': 3, 'colour': 'Green', 'type': 'property'}\n",
      "{'name': 'Lanzhou Beef Noodle', 'price': 2, 'colour': 'Red', 'type': 'property'}\n",
      "{'name': 'Lanzhou Beef Noodle', 'price': 2, 'colour': 'Red', 'type': 'property'}\n",
      "{'name': 'The Grand Tofu', 'price': 2, 'colour': 'Red', 'type': 'property'}\n",
      "{'name': \"Betty's Burgers\", 'price': 3, 'colour': 'Green', 'type': 'property'}\n",
      "{'name': 'YOMG', 'price': 3, 'colour': 'Green', 'type': 'property'}\n",
      "{'name': 'Fast Kebabs', 'price': 1, 'colour': 'Brown', 'type': 'property'}\n",
      "{'name': 'The Burvale', 'price': 1, 'colour': 'Brown', 'type': 'property'}\n",
      "{'name': 'YOMG', 'price': 3, 'colour': 'Green', 'type': 'property'}\n",
      "{'name': \"Betty's Burgers\", 'price': 3, 'colour': 'Green', 'type': 'property'}\n",
      "{'name': 'The Burvale', 'price': 1, 'colour': 'Brown', 'type': 'property'}\n",
      "{'name': 'The Burvale', 'price': 1, 'colour': 'Brown', 'type': 'property'}\n",
      "{'name': 'YOMG', 'price': 3, 'colour': 'Green', 'type': 'property'}\n",
      "{'name': 'Lanzhou Beef Noodle', 'price': 2, 'colour': 'Red', 'type': 'property'}\n",
      "{'name': \"Betty's Burgers\", 'price': 3, 'colour': 'Green', 'type': 'property'}\n",
      "{'name': 'Fast Kebabs', 'price': 1, 'colour': 'Brown', 'type': 'property'}\n",
      "{'name': 'Fast Kebabs', 'price': 1, 'colour': 'Brown', 'type': 'property'}\n",
      "{'name': 'The Grand Tofu', 'price': 2, 'colour': 'Red', 'type': 'property'}\n",
      "{'name': \"Betty's Burgers\", 'price': 3, 'colour': 'Green', 'type': 'property'}\n",
      "{'name': 'YOMG', 'price': 3, 'colour': 'Green', 'type': 'property'}\n"
     ]
    }
   ],
   "source": [
    "import json\n",
    "\n",
    "def readFile(file):\n",
    "    # Opening JSON file\n",
    "    f = open(file)\n",
    "    data = json.load(f)\n",
    "    # Returns JSON object as a dictionary\n",
    "    return data\n",
    "    # Closing file\n",
    "    f.close()\n",
    "\n",
    "#Store JSON data\n",
    "board = readFile('board.json')\n",
    "rolls_1 = readFile('rolls_1.json')\n",
    "rolls_2 = readFile('rolls_2.json')\n",
    "\n",
    "#Initialize players\n",
    "StartValue = 16\n",
    "#player data\n",
    "players = {\n",
    "  \"player1\" : {\n",
    "    \"name\" : \"Peter\",\n",
    "    \"value\" : StartValue\n",
    "  },\n",
    "  \"player2\" : {\n",
    "    \"name\" : \"Billy\",\n",
    "    \"value\" : StartValue\n",
    "  },\n",
    "  \"player3\" : {\n",
    "    \"name\" : \"Charlotte\",\n",
    "    \"value\" : StartValue\n",
    "  },\n",
    "  \"player4\" : {\n",
    "    \"name\" : \"Sweedal\",\n",
    "    \"value\" : StartValue\n",
    "  }\n",
    "}\n",
    "\n",
    "\n",
    "counter = 0 \n",
    "\n",
    "def game(dice_roll):\n",
    "  for x in dice_roll:\n",
    "    current_position = board[x]\n",
    "    print(current_position)\n",
    "    #counter += 1\n",
    "\n",
    "game(rolls_1)\n"
   ]
  },
  {
   "cell_type": "code",
   "execution_count": null,
   "metadata": {},
   "outputs": [],
   "source": []
  },
  {
   "cell_type": "code",
   "execution_count": null,
   "metadata": {},
   "outputs": [],
   "source": []
  },
  {
   "cell_type": "code",
   "execution_count": null,
   "metadata": {},
   "outputs": [],
   "source": []
  }
 ],
 "metadata": {
  "kernelspec": {
   "display_name": "Python 3.9.9 64-bit",
   "language": "python",
   "name": "python3"
  },
  "language_info": {
   "codemirror_mode": {
    "name": "ipython",
    "version": 3
   },
   "file_extension": ".py",
   "mimetype": "text/x-python",
   "name": "python",
   "nbconvert_exporter": "python",
   "pygments_lexer": "ipython3",
   "version": "3.9.13"
  },
  "vscode": {
   "interpreter": {
    "hash": "aee8b7b246df8f9039afb4144a1f6fd8d2ca17a180786b69acc140d282b71a49"
   }
  }
 },
 "nbformat": 4,
 "nbformat_minor": 4
}
